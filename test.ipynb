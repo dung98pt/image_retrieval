{
 "metadata": {
  "language_info": {
   "codemirror_mode": {
    "name": "ipython",
    "version": 3
   },
   "file_extension": ".py",
   "mimetype": "text/x-python",
   "name": "python",
   "nbconvert_exporter": "python",
   "pygments_lexer": "ipython3",
   "version": "3.8.8"
  },
  "orig_nbformat": 4,
  "kernelspec": {
   "name": "python3",
   "display_name": "Python 3.8.8 64-bit ('hass': conda)"
  },
  "interpreter": {
   "hash": "2c0ea82d0f5ea2acd40bea06f2a075e51874f1cd43085878ffe7f878777c887e"
  }
 },
 "nbformat": 4,
 "nbformat_minor": 2,
 "cells": [
  {
   "cell_type": "code",
   "execution_count": 31,
   "metadata": {},
   "outputs": [
    {
     "output_type": "stream",
     "name": "stdout",
     "text": [
      "img shape: (128, 128, 3)\nSố lớp: 2 - {'obj100', 'obj10'}\nSố mẫu train: 142, Số mẫu test: 2\n['obj10', 'obj100']\n"
     ]
    }
   ],
   "source": [
    "import numpy as np\n",
    "from matplotlib import pyplot as plt\n",
    "from numpy.lib.npyio import load \n",
    "from dataset import load_dataset\n",
    "from skimage.color import rgb2gray\n",
    "import mahotas\n",
    "import cv2\n",
    "\n",
    "(X_train, y_train), (X_test, y_test) = load_dataset()\n",
    "print(y_test)\n",
    "im = X_train[1]"
   ]
  },
  {
   "cell_type": "code",
   "execution_count": 36,
   "metadata": {},
   "outputs": [
    {
     "output_type": "execute_result",
     "data": {
      "text/plain": [
       "{'m00': 5469.391541568629,\n",
       " 'm10': 350081.38985450985,\n",
       " 'm01': 309824.70847058814,\n",
       " 'm20': 28329909.027834114,\n",
       " 'm11': 20232746.267073333,\n",
       " 'm02': 22754250.143175684,\n",
       " 'm30': 2574157400.810054,\n",
       " 'm21': 1656530893.5517697,\n",
       " 'm12': 1483956279.9839125,\n",
       " 'm03': 1927362949.5380588,\n",
       " 'mu20': 5922118.583320461,\n",
       " 'mu11': 401680.28316970915,\n",
       " 'mu02': 5203605.0212587975,\n",
       " 'mu30': 2715800.937602043,\n",
       " 'mu21': 305092.1407058239,\n",
       " 'mu12': -17991497.21380526,\n",
       " 'mu03': 48865194.092163086,\n",
       " 'nu20': 0.19796985730239283,\n",
       " 'nu11': 0.013427726449831711,\n",
       " 'nu02': 0.17395074567031418,\n",
       " 'nu30': 0.0012275816763598953,\n",
       " 'nu21': 0.00013790610215437117,\n",
       " 'nu12': -0.008132419428888127,\n",
       " 'nu03': 0.022087781195139718}"
      ]
     },
     "metadata": {},
     "execution_count": 36
    }
   ],
   "source": [
    "cv2.moments(rgb2gray(im))"
   ]
  },
  {
   "cell_type": "code",
   "execution_count": 34,
   "metadata": {},
   "outputs": [
    {
     "output_type": "execute_result",
     "data": {
      "text/plain": [
       "(18, 128)"
      ]
     },
     "metadata": {},
     "execution_count": 34
    }
   ],
   "source": [
    "descriptors.shape"
   ]
  },
  {
   "cell_type": "code",
   "execution_count": null,
   "metadata": {},
   "outputs": [],
   "source": []
  }
 ]
}